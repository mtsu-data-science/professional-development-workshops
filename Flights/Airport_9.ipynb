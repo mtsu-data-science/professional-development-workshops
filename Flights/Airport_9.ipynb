{
 "cells": [
  {
   "cell_type": "markdown",
   "id": "aca736dd",
   "metadata": {},
   "source": [
    "<h1 > <span style=\"font-size: 3em; color:DarkSlateBlue\"> </span></h1>"
   ]
  },
  {
   "cell_type": "markdown",
   "id": "91d9e988",
   "metadata": {},
   "source": [
    "<h1 > <span style=\"font-size: 2em; color:RoyalBlue\"> 🛫 Flights, Airports, and Airlines Data</span></h1>\n",
    "<h1 > <span style=\"font-size: 1em; color:Gray\"> &emsp; &emsp; &emsp;📊 📉 Data science project</span></h1> \n",
    "\n",
    "*** "
   ]
  },
  {
   "cell_type": "markdown",
   "id": "9bdb92a8",
   "metadata": {
    "scrolled": true
   },
   "source": [
    "<div class=\"alert alert-block alert-info\"> \n",
    "<img src=\"https://pngroyale.com/wp-content/uploads/2022/03/Vector-Airplane-Cartoon-PNG-Image.png\" style=\" float:right; max-width:10%; max-height:10%;margin-left:20%;\"> </img>\n",
    "\n",
    "<h1 > <span style=\"font-size: 1em; color:DarkSlateGray\"> Lift your head up to the sky... </span></h1>\n",
    "\n",
    "## Look into the Flights, Airports, and Airlines data of 344 cities, 322 airports, and 14 airlines..  Discover the secrets to booking the perfect flight ticket.\n",
    "\n",
    "<p><img src=\"https://img.freepik.com/free-photo/airport-timetable-display_657883-229.jpg?w=1480&t=st=1657145487~exp=1657146087~hmac=186a524e83c849560ef079c69fb37a03ed2720b6715e672c4289de7d0db1c7ec\"  alt=\"airport\"></p>\n",
    "\n"
   ]
  },
  {
   "cell_type": "markdown",
   "id": "5782eb1c",
   "metadata": {},
   "source": [
    "<div class=\"alert alert-block alert-info\"> \n",
    "\n",
    "<h3>This dataset consists of 3 files:\n",
    "<h3>1. Flights dataset:</h3>\n",
    " Each row represents an observation of a flight with details such as date, time, Airline, flight number, airports, and so on.\n",
    "<h3>2. Airports dataset:</h3>\n",
    "Geospatial dataset, each row represents a location of an airline and airport with details such as city, state, latitude, and longitude.\n",
    "<h3> 3. Airlines dataset:</h3>\n",
    "As a reference of what each Airlines code represents<br><br>\n",
    "<a href=\"https://www.kaggle.com/datasets/tylerx/flights-and-airports-data\">Source of dataset.</a>\n",
    "</span></p>\n",
    "\n",
    "</div>\n",
    "</div>\n",
    "\n",
    "# 🗺️  Explore:\n",
    "What is the most common cause of cancelations in Airlines?<br>\n",
    "- Weather\n",
    "- Airline/carrier\n",
    "- National Air System\n",
    "- Security\n",
    "\n",
    "# 📊Visualize:\n",
    "Visualize a time-series of the airlines' average delay over the year(2015)<br>\n",
    "- Can you spot any changes over the months/ days?\n",
    "\n",
    "# 🔎Analyze:\n",
    "Train and build a logistic regression model to predict if a flight will be canceled or not. "
   ]
  },
  {
   "cell_type": "markdown",
   "id": "8a96dd6c",
   "metadata": {},
   "source": [
    "### 1. Import Python libraries"
   ]
  },
  {
   "cell_type": "code",
   "execution_count": null,
   "id": "833f8b8f",
   "metadata": {},
   "outputs": [],
   "source": [
    "# The fundamental package for scientific computing with Python\n",
    "import numpy as np\n",
    "from numpy import arange\n",
    "from numpy import mean\n",
    "\n",
    "# Pandas is a widely-used data analysis and manipulation library for Python\n",
    "import pandas as pd \n",
    "\n",
    "# Matplotlib is a comprehensive library for creating static, animated, and interactive visualizations in Python\n",
    "import matplotlib.pyplot as plt\n",
    "import matplotlib.dates as mdates\n",
    "from matplotlib.dates import MonthLocator, DateFormatter\n",
    "from matplotlib.ticker import NullFormatter\n",
    "import matplotlib.patches as mpatches\n",
    "\n",
    "# Seaborn is a data visualization library based on matplotlib\n",
    "import seaborn as sns\n",
    "\n",
    "# Datetime module supplies classes to work with date and time.\n",
    "import datetime as dt\n",
    "# Missingno is exploratory visualization tool for  missing data\n",
    "import missingno as msno\n",
    "\n",
    "# Plotly is an interactive, open-source plotting library\n",
    "import plotly.graph_objects as go\n",
    "import plotly.express as px\n",
    "\n",
    "# Show warning messages\n",
    "import warnings\n",
    "# Never print matching warnings\n",
    "warnings.filterwarnings('ignore')"
   ]
  },
  {
   "cell_type": "markdown",
   "id": "d54cbd77",
   "metadata": {},
   "source": [
    "#### Set display"
   ]
  },
  {
   "cell_type": "code",
   "execution_count": null,
   "id": "c1ab2bf0",
   "metadata": {},
   "outputs": [],
   "source": [
    "# Set display to show up to 200 columns in dataframe\n",
    "\n",
    "sns.reset_orig()\n",
    "pd.set_option('display.max_columns',500)\n",
    "pd.set_option('display.max_rows', 50)\n",
    "\n",
    "# Set default color palette to colorblind\n",
    "plt.style.use('seaborn-colorblind')\n",
    "\n",
    "# Set the aesthetic style of any plots \n",
    "sns.set_style('whitegrid') \n",
    "sns.color_palette(\"colorblind\")\n",
    "%config InlineBackend.figure_format='retina'\n",
    "\n",
    "# Enable the inline plotting\n",
    "%matplotlib inline\n",
    "# Trick to widen the screen\n",
    "from IPython.core.display import display, HTML\n",
    "#Widens the code landscape \n",
    "display(HTML(\"<style>.container { width:95% !important; }</style>\"))"
   ]
  },
  {
   "cell_type": "markdown",
   "id": "a655fec1",
   "metadata": {},
   "source": [
    "### 2. Import the datasets"
   ]
  },
  {
   "cell_type": "code",
   "execution_count": null,
   "id": "881d0942",
   "metadata": {},
   "outputs": [],
   "source": [
    "# Read a comma-separated values (csv) file from the same folder into DataFrame\n",
    "df_airports = pd.read_csv(\"airports.csv\",encoding=\"latin1\")\n",
    "\n",
    "df_flights = pd.read_csv(\"flights.csv\",encoding=\"latin1\")\n",
    "\n",
    "df_airlines = pd.read_csv(\"airlines.csv\",encoding=\"latin1\" )\n",
    "\n",
    "# Rename columns with appropriate names\n",
    "df_airports.rename(columns = {\"IATA_CODE\": \"AIRPORT_CODE\"}, inplace = True)\n",
    "df_flights.rename(columns = {\"AIRLINE\": \"AIRLINE_CODE\"}, inplace = True)\n",
    "df_airlines.rename(columns = {\"IATA_CODE\": \"AIRLINE_CODE\"}, inplace = True)"
   ]
  },
  {
   "cell_type": "markdown",
   "id": "e2a34a2c",
   "metadata": {},
   "source": [
    "# 3.1 Exploratory Data Analysis\n",
    "> ### Explore the data. look at the shape of the dataframe. Take notes of the variable types (int, object, float...). Look for missing data, repeating value, and outliers."
   ]
  },
  {
   "cell_type": "code",
   "execution_count": null,
   "id": "f0104dfa",
   "metadata": {},
   "outputs": [],
   "source": [
    "# Show the first 5 rows of the df_airports\n",
    "display(df_airports.head())\n",
    "# Print a concise summary of a DataFrame.\n",
    "display(df_airports.info())"
   ]
  },
  {
   "cell_type": "code",
   "execution_count": null,
   "id": "f75654c2",
   "metadata": {},
   "outputs": [],
   "source": [
    "# Show the first 5 rows of the df_flights\n",
    "display(df_flights.head())\n",
    "# Print a concise summary of a DataFrame\n",
    "display(df_flights.info())"
   ]
  },
  {
   "cell_type": "code",
   "execution_count": null,
   "id": "4308e324",
   "metadata": {},
   "outputs": [],
   "source": [
    "# Show the first 5 rows of the df_airlines\n",
    "display(df_airlines.head())\n",
    "# Print a concise summary of a DataFrame.\n",
    "display(df_airlines.info())"
   ]
  },
  {
   "cell_type": "code",
   "execution_count": null,
   "id": "b6cc01f5",
   "metadata": {},
   "outputs": [],
   "source": [
    "# Merge the df_flights and df_airlines DataFrame on AIRLINE_CODE as the common column (or key) id.\n",
    "# Which will add a new column (AIRLINE) to df_flights, including airline names.\n",
    "\n",
    "df_flights = df_flights.merge(df_airlines, on= 'AIRLINE_CODE', how=\"left\")\n",
    "\n",
    "\n",
    "# Merge the df_flights and df_airlines DataFrame on AIRLINE_CODE as the common column (or key) id.\n",
    "# Which will add a new column (AIRLINE) to df_flights, including airline names.\n",
    "airports_ORG = df_airports.add_suffix('_ORG')\n",
    "airports_DIS = df_airports.add_suffix('_DIS')\n",
    "\n",
    "df_flights = pd.merge(df_flights, airports_ORG, left_on='ORIGIN_AIRPORT', right_on='AIRPORT_CODE_ORG')\n",
    "df_flights = pd.merge(df_flights, airports_DIS, left_on='DESTINATION_AIRPORT', right_on='AIRPORT_CODE_DIS')\n",
    "\n",
    "# Show the first 5 rows of the df_airports\n",
    "display(df_flights.head())\n",
    "# Print a concise summary of a DataFrame.\n",
    "display(df_flights.info())"
   ]
  },
  {
   "cell_type": "markdown",
   "id": "7b8c4d18",
   "metadata": {},
   "source": [
    "# 4.1 What is the most common reason for flight cancellations?"
   ]
  },
  {
   "cell_type": "markdown",
   "id": "9352e31f",
   "metadata": {},
   "source": [
    "### Explore CANCELLATION_REASON columns"
   ]
  },
  {
   "cell_type": "code",
   "execution_count": null,
   "id": "2dcc7064",
   "metadata": {},
   "outputs": [],
   "source": [
    "# Print unique values of CANCELLATION_REASON column\n",
    "df_flights['CANCELLATION_REASON'].unique()"
   ]
  },
  {
   "cell_type": "markdown",
   "id": "0c309045",
   "metadata": {},
   "source": [
    "    \n",
    "####   Cancellation Reasons Explanation\n",
    "Reasons|Explanation\n",
    ":-----|:-----|\n",
    "A|\tAirline/Carrier|\n",
    "B|\tWeather|\n",
    "C|\tNational Air System|\n",
    "D|\tSecurity|\n",
    "    "
   ]
  },
  {
   "cell_type": "markdown",
   "id": "eab133c2",
   "metadata": {},
   "source": [
    "# CANCELLATION REASON Pie Chart"
   ]
  },
  {
   "cell_type": "code",
   "execution_count": null,
   "id": "d95f59fa",
   "metadata": {},
   "outputs": [],
   "source": [
    "\n",
    "df_reason_copy = df_flights.groupby(by=[\"CANCELLATION_REASON\"]).count()[[\"CANCELLED\"]].rename(columns={\"CANCELLED\":\"Count\"}).reset_index()\n",
    "\n",
    "# Creating Dictionary for airlines_names then add it as a new column\n",
    "reasons_names = {\n",
    "                 'A': \"Airline/Carrier\",\n",
    "                 'B': \"Weather\",\n",
    "                 'C': \"Air System\",\n",
    "                 'D': \"Security\"}\n",
    "\n",
    "#  Create a new column with full airlines names \n",
    "df_reason_copy['CANCELLATION_REASON'] = df_reason_copy['CANCELLATION_REASON'].astype('category')\n",
    "df_reason_copy['CANCELLATION_REASON'] = df_reason_copy['CANCELLATION_REASON'].cat.rename_categories(reasons_names)\n",
    "df_reason_copy"
   ]
  },
  {
   "cell_type": "code",
   "execution_count": null,
   "id": "a819dada",
   "metadata": {},
   "outputs": [],
   "source": [
    "# Create color_map for Cancellations reasons names\n",
    "color_map ={'Airline/Carrier':'MidnightBlue','Weather':'Turquoise','Air System':'Gold','Security':'Silver'}\n",
    "\n",
    "# Create the pie plot\n",
    "fig = px.pie(\n",
    "            # Set the data\n",
    "            df_reason_copy,\n",
    "            # Set the variable for the values\n",
    "            values='Count',\n",
    "            # Set the variable for the names\n",
    "            names='CANCELLATION_REASON',\n",
    "            # Set the color variable and map\n",
    "            color='CANCELLATION_REASON',\n",
    "            color_discrete_map=color_map\n",
    "            )\n",
    "# Adjust the look to a donut chart by adding white space in the middle\n",
    "fig.update_traces(hole=.65,\n",
    "                  # Adjust the text position, size, and info\n",
    "                  textposition='inside', textinfo='percent+label',textfont_size=18)\n",
    "# Update the figure layout\n",
    "fig.update_layout(width=800,height=800,\n",
    "    # Add annotations in the center of the donut pie\n",
    "    annotations=[dict(text='Cancellations <br> Reasons',\n",
    "                      x=0.5, y=0.5, font_size=30, showarrow=False)],\n",
    "                 title_text = '(Click legend to toggle traces)')\n",
    "\n",
    "\n",
    "\n",
    "# Show the plot\n",
    "fig.show()"
   ]
  },
  {
   "cell_type": "markdown",
   "id": "2db7ad57",
   "metadata": {},
   "source": [
    "### Reflection - Cancellation Reason\n",
    "> Donut charts are a great way to see distrubutions. After looking at this graph, what was the biggest reason for cancellations? What was the smallest reason? Does this suprise you? Type your answer to the right of the # in the cell block below."
   ]
  },
  {
   "cell_type": "code",
   "execution_count": null,
   "id": "1b585c04",
   "metadata": {},
   "outputs": [],
   "source": [
    "#"
   ]
  },
  {
   "cell_type": "markdown",
   "id": "8442518e",
   "metadata": {},
   "source": [
    "# Which airlines have the most cancellations?\n",
    "##  And which reason caused these cancellations ?"
   ]
  },
  {
   "cell_type": "code",
   "execution_count": null,
   "id": "e2e37ed1",
   "metadata": {},
   "outputs": [],
   "source": [
    "df_flights['AIRLINE'].unique().tolist()"
   ]
  },
  {
   "cell_type": "code",
   "execution_count": null,
   "id": "1bd0e788",
   "metadata": {},
   "outputs": [],
   "source": [
    "# Creating Dictionary for airlines_names then add it as a new column\n",
    "ids = {'Hawaiian Airlines Inc.':'Hawaiian',\n",
    " 'Virgin America':'Virgin',\n",
    " 'Frontier Airlines Inc.':'Frontier',\n",
    " 'Alaska Airlines Inc.':'Alaska',\n",
    " 'Spirit Air Lines':'Spirit',\n",
    " 'Delta Air Lines Inc.':'Delta',\n",
    " 'US Airways Inc.':'US Airways',\n",
    " 'JetBlue Airways':'JetBlue',\n",
    " 'United Air Lines Inc.':'United',\n",
    " 'Skywest Airlines Inc.':'Skywest',\n",
    " 'American Airlines Inc.':'American',\n",
    " 'American Eagle Airlines Inc.':'American Eagle',\n",
    " 'Atlantic Southeast Airlines':'Atlantic',\n",
    " 'Southwest Airlines Co.':'Southwest'}\n",
    "df_flights['AIRLINE'] = df_flights['AIRLINE'].replace(ids, regex=True)"
   ]
  },
  {
   "cell_type": "code",
   "execution_count": null,
   "id": "7bb6c6fd",
   "metadata": {},
   "outputs": [],
   "source": [
    "df_reasons = df_flights.groupby(['AIRLINE','CANCELLATION_REASON'])[['CANCELLED']].sum().reset_index()\n",
    "\n",
    "#  Create a new column with full airlines names \n",
    "df_reasons['CANCELLATION_REASON'] = df_reasons['CANCELLATION_REASON'].astype('category')\n",
    "df_reasons['CANCELLATION_REASON'] = df_reasons['CANCELLATION_REASON'].cat.rename_categories(reasons_names)\n",
    "\n",
    "df_reasons = df_reasons.sort_values('CANCELLED',ascending = False)\n",
    "df_reasons.head()"
   ]
  },
  {
   "cell_type": "markdown",
   "id": "641a52e6",
   "metadata": {},
   "source": [
    "## Conditions led to Cancellations in Airlines Stacked bar plot"
   ]
  },
  {
   "cell_type": "code",
   "execution_count": null,
   "id": "b7a5c48c",
   "metadata": {},
   "outputs": [],
   "source": [
    "\n",
    "# Create the bar chart\n",
    "fig = px.bar(\n",
    "             # Set the data\n",
    "             df_reasons,\n",
    "             # Set the orientation to horizontal\n",
    "             orientation=\"h\",\n",
    "             # Set the variable for the y-axis\n",
    "             y=\"AIRLINE\",\n",
    "             # Set the variable for the x-axis\n",
    "             x=\"CANCELLED\",\n",
    "             # Set the color variable and map\n",
    "             color=\"CANCELLATION_REASON\",\n",
    "             color_discrete_map=color_map,\n",
    "             # display the values on the bars \n",
    "             #________\n",
    "             width=1200, height=800,\n",
    "             category_orders={\"CANCELLATION_REASON\": [\"Airline/Carrier\", \"Weather\", \"Air System\", \"Security\"]})\n",
    "\n",
    "# Update the figure layout\n",
    "fig.update_layout( plot_bgcolor='white',yaxis={'categoryorder':'total ascending'},\n",
    "                 # Add title\n",
    "                 title_text = 'Conditions led to Cancellations in Airlines\\\n",
    "                 <br>(Click legend to toggle traces)',\n",
    "                 title_x=0.5)\n",
    "fig.update_xaxes(gridcolor='LightGrey')\n",
    "\n",
    "\n",
    "\n",
    "\n",
    "\n",
    "\n",
    "\n",
    "# Show the plot\n",
    "fig.show()"
   ]
  },
  {
   "cell_type": "code",
   "execution_count": null,
   "id": "48aa5511",
   "metadata": {},
   "outputs": [],
   "source": [
    "# After showing this graph to you manger they asked to display the values on the bars \n",
    "# try to add \"text_auto='.2s'\" to the px.bar and the code block again"
   ]
  },
  {
   "cell_type": "markdown",
   "id": "c972f75a",
   "metadata": {},
   "source": [
    "### Reflection \n",
    "> After visualizing this stacked bar chart we are able to see which reason caused the most cancellations by specific airways. What can we tell about the variance in reliability in specific airlines?Draw from personal experiences and the data above. Enter your thoughts to the right of the # in the cell below.\n"
   ]
  },
  {
   "cell_type": "code",
   "execution_count": null,
   "id": "c939c841",
   "metadata": {},
   "outputs": [],
   "source": [
    "#"
   ]
  },
  {
   "cell_type": "code",
   "execution_count": null,
   "id": "e493357f",
   "metadata": {},
   "outputs": [],
   "source": []
  },
  {
   "cell_type": "markdown",
   "id": "d644aa1a",
   "metadata": {},
   "source": [
    "# Which Airports / Cities have the most cancellations frequency?"
   ]
  },
  {
   "cell_type": "code",
   "execution_count": null,
   "id": "d3150e39",
   "metadata": {},
   "outputs": [],
   "source": [
    "df_state_cancel = df_flights.groupby(['AIRPORT_CODE_ORG','LATITUDE_ORG','LONGITUDE_ORG','STATE_ORG','CITY_ORG'])[['CANCELLED']].sum().reset_index()\n",
    "\n",
    "\n",
    "\n",
    "df_state_cancel = df_state_cancel.sort_values('CANCELLED',ascending = True).reset_index(drop= True)\n",
    "df_state_cancel.head()"
   ]
  },
  {
   "cell_type": "markdown",
   "id": "da403ba2",
   "metadata": {},
   "source": [
    "### Bubble Map\n",
    "> Bubble Maps are circles shown over a geographical region with the area of the circle proportional to its value in the dataset ( Cancellations frequency).\n",
    "\"Bubble Maps are good for comparing proportions over geographic regions without the issues caused by regional area size, as you will see on Choropleth Maps.\""
   ]
  },
  {
   "cell_type": "code",
   "execution_count": null,
   "id": "556d5d60",
   "metadata": {},
   "outputs": [],
   "source": [
    "\n",
    "df_state_cancel['text'] = '<br>STATE: '+ df_state_cancel['STATE_ORG'] + '<br>AIRPORT: ' + (df_state_cancel['AIRPORT_CODE_ORG'])+ '<br>Cancelation Rate: ' + (df_state_cancel['CANCELLED']).astype(str)\n",
    "limits = [(0,50),(50,100),(100,315), (315,8548)]\n",
    "colors = [\"MidnightBlue\", \"Gold\",\"Teal\", \"crimson\"]\n",
    "cities = []\n",
    "scale = 10\n",
    "\n",
    "\n",
    "#fig.data = []\n",
    "\n",
    "fig = go.Figure()\n",
    "\n",
    "for i in range(len(limits)):\n",
    "    lim = limits[i]\n",
    "    df_sub = df_state_cancel[lim[0]:lim[1]]\n",
    "    fig.add_trace(go.Scattergeo(\n",
    "        locationmode = 'USA-states',\n",
    "        lon = df_sub['LONGITUDE_ORG'],\n",
    "        lat = df_sub['LATITUDE_ORG'],\n",
    "        text = df_sub['text'],\n",
    "        marker = dict(\n",
    "            size = df_sub['CANCELLED']/scale,\n",
    "            color = colors[i],\n",
    "            line_color='rgb(40,40,40)',\n",
    "            line_width=0.2,\n",
    "            sizemode = 'area',\n",
    "            sizemin=1),\n",
    "        name = '{0} - {1}'.format(lim[0],lim[1])))\n",
    "\n",
    "\n",
    "\n",
    "fig.update_layout(\n",
    "        title_text = 'Airports / Cities that have the most Cancellations frequency<br>(Click legend to toggle traces)',\n",
    "        title_x=0.5,\n",
    "        showlegend = True,\n",
    "        geo = dict(\n",
    "            scope = 'usa',\n",
    "            landcolor = 'rgb(217, 217, 217)',\n",
    "        )\n",
    "    )\n",
    "\n",
    "\n",
    "fig.show()"
   ]
  },
  {
   "cell_type": "markdown",
   "id": "011ed528",
   "metadata": {},
   "source": [
    "### Reflection \n",
    "> After visualizing this Bubble Map, we can see the most cancellations by specific airlines/cities/states. What can we tell about ########################\n"
   ]
  },
  {
   "cell_type": "code",
   "execution_count": null,
   "id": "c905c79f",
   "metadata": {},
   "outputs": [],
   "source": [
    "#"
   ]
  },
  {
   "cell_type": "code",
   "execution_count": null,
   "id": "6dfb7c42",
   "metadata": {},
   "outputs": [],
   "source": []
  },
  {
   "cell_type": "code",
   "execution_count": null,
   "id": "fc1362d1",
   "metadata": {},
   "outputs": [],
   "source": []
  },
  {
   "cell_type": "markdown",
   "id": "8a0e7b5b",
   "metadata": {},
   "source": [
    "# What day of the week had the most cancellations and what was the cause?"
   ]
  },
  {
   "cell_type": "markdown",
   "id": "91b6011e",
   "metadata": {},
   "source": [
    "## Flight Cancellations rate throughout the week\n"
   ]
  },
  {
   "cell_type": "code",
   "execution_count": null,
   "id": "ef5ff14b",
   "metadata": {},
   "outputs": [],
   "source": [
    "DAY_Cancel = df_flights.groupby(['DAY_OF_WEEK', 'CANCELLATION_REASON'])['CANCELLED'].sum().reset_index()\n",
    "DAY_Cancel[\"DAY_OF_WEEK\"] = DAY_Cancel[\"DAY_OF_WEEK\"].astype(str)\n",
    "#  Create a new column with full airlines names \n",
    "DAY_Cancel['CANCELLATION_REASON'] = DAY_Cancel['CANCELLATION_REASON'].astype('category')\n",
    "DAY_Cancel['CANCELLATION_REASON'] = DAY_Cancel['CANCELLATION_REASON'].cat.rename_categories(reasons_names)\n",
    "\n",
    "DAY_Cancel = DAY_Cancel.sort_values('DAY_OF_WEEK',ascending = True).reset_index(drop=True)\n",
    "\n",
    "DAY_Cancel.head(25)\n"
   ]
  },
  {
   "cell_type": "markdown",
   "id": "ae830a95",
   "metadata": {},
   "source": [
    "## stacked bar chart for week days and cancellations "
   ]
  },
  {
   "cell_type": "code",
   "execution_count": null,
   "id": "bd31b1d1",
   "metadata": {},
   "outputs": [],
   "source": [
    "# Create color_map for Cancellations reasons names\n",
    "color_map ={'Airline/Carrier':'MidnightBlue','Weather':'Turquoise','Air System':'Gold','Security':'Silver'}\n",
    "\n",
    "# Create the bar chart\n",
    "fig = px.bar(\n",
    "             # Set the data\n",
    "             DAY_Cancel,\n",
    "             # Set the orientation to horizontal\n",
    "             orientation=\"h\",\n",
    "             # Set the variable for the y-axis\n",
    "             y=\"DAY_OF_WEEK\",\n",
    "             # Set the variable for the x-axis\n",
    "             x=\"CANCELLED\",\n",
    "             # Set the color variable and map\n",
    "             color=\"CANCELLATION_REASON\",\n",
    "             color_discrete_map=color_map,\n",
    "             width=1200, height=800)\n",
    "\n",
    "# Update the figure layout\n",
    "\n",
    "fig.update_xaxes(gridcolor='LightGrey')\n",
    "fig.update_yaxes(tickvals = [1, 2, 3, 4, 5, 6,7],ticktext = [\"Sun \", \"Mon \", \"Tues \", \"Wed\", \"Thurs\", \"Fri\", \"Sat\"])\n",
    "\n",
    "fig.update_layout( plot_bgcolor='white',  yaxis={'categoryorder':'category descending'},\n",
    "                  # Add title\n",
    "                  title=\"Conditions led to Cancellations in Airlines<br>(Click legend to toggle traces)\",title_x=0.5)\n",
    "\n",
    "\n",
    "\n",
    "# Show the plot\n",
    "fig.show()"
   ]
  },
  {
   "cell_type": "markdown",
   "id": "89915a6b",
   "metadata": {},
   "source": [
    "### Reflection \n",
    "> What day of the week had the most cancellations and what caused them?\n",
    ">What would be the best day of the week to book a flight with the lowest chance of it being cancelled?"
   ]
  },
  {
   "cell_type": "code",
   "execution_count": null,
   "id": "2cbbff65",
   "metadata": {},
   "outputs": [],
   "source": [
    "#"
   ]
  },
  {
   "cell_type": "code",
   "execution_count": null,
   "id": "2a374656",
   "metadata": {},
   "outputs": [],
   "source": []
  },
  {
   "cell_type": "markdown",
   "id": "ba357236",
   "metadata": {},
   "source": [
    "# Does the time of year affect cancellation rates?"
   ]
  },
  {
   "cell_type": "markdown",
   "id": "b5ca6739",
   "metadata": {},
   "source": [
    "### Time Series and Cancellation Reasons Visualization\n",
    "Create an entire date column by merging year, month, and day into one column, then convert it to date-type to use in our time series. "
   ]
  },
  {
   "cell_type": "code",
   "execution_count": null,
   "id": "dd1f1ec2",
   "metadata": {},
   "outputs": [],
   "source": [
    "# Merging columns\n",
    "df_flights['DATE'] = df_flights[\"YEAR\"].astype(str)+'/'+df_flights[\"MONTH\"] .astype(str)+'/'+df_flights[\"DAY\"].astype(str)\n",
    "\n",
    "# Creat a datetime64 data type \n",
    "df_flights['DATE'] = pd.to_datetime(df_flights['DATE'], errors='coerce')\n",
    "\n",
    "# Confirm if it is converted correctly \n",
    "print(df_flights['DATE'])"
   ]
  },
  {
   "cell_type": "code",
   "execution_count": null,
   "id": "c44d2d38",
   "metadata": {},
   "outputs": [],
   "source": [
    "df_date = df_flights.groupby(['DATE', 'CANCELLATION_REASON'])['CANCELLED'].sum().reset_index()\n",
    "df_date"
   ]
  },
  {
   "cell_type": "code",
   "execution_count": null,
   "id": "cbeda76d",
   "metadata": {},
   "outputs": [],
   "source": [
    "color_map = {'A': 'MidnightBlue' , 'B': 'Turquoise', 'C': 'Gold', 'D': 'Red'}\n",
    "\n",
    "fig = px.line(x=df_date['DATE'], y=df_date['CANCELLED'],\n",
    "              # Set the colors to use your color map\n",
    "              color= df_date['CANCELLATION_REASON'], color_discrete_map=color_map,\n",
    "              # change Axis and legend titles \n",
    "              labels=dict(x=\"Date\", y=\"Cancellation frequency\", color=\"Cancellation Reasons\"),\n",
    "              width=1200, height=800)\n",
    "\n",
    "\n",
    "# Create the legend\n",
    "my_legend = {'A': 'Airline/Carrier' , 'B': 'Weather', 'C': 'National Air System', 'D': 'Security'}\n",
    "\n",
    "\n",
    "fig.for_each_trace(lambda t: t.update(name = my_legend[t.name],\n",
    "                                      legendgroup = my_legend[t.name],\n",
    "                                      hovertemplate = t.hovertemplate.replace(t.name, my_legend[t.name])))\n",
    "\n",
    "\n",
    "fig.update_layout(plot_bgcolor='white',\n",
    "                  # Add title\n",
    "                  title=\"Conditions led to Cancellations in Airlines <br>(Click legend to toggle traces) \",title_x=0.5)\n",
    "\n",
    "# Show the plot\n",
    "fig.show()"
   ]
  },
  {
   "cell_type": "markdown",
   "id": "5e664fb0",
   "metadata": {},
   "source": [
    "### Reflection \n",
    "> Based on this time series data, what can we tell about how the reasons for cancellations changed throughout the year? What reasons caused the most and least? Is this what you expected? Enter your answer in the cell below to the right of the #.\n"
   ]
  },
  {
   "cell_type": "code",
   "execution_count": null,
   "id": "0df676c5",
   "metadata": {},
   "outputs": [],
   "source": [
    "#"
   ]
  },
  {
   "cell_type": "markdown",
   "id": "bb0b4fdd",
   "metadata": {},
   "source": [
    "# Which States have the most Weather Delays?"
   ]
  },
  {
   "cell_type": "markdown",
   "id": "58638c66",
   "metadata": {},
   "source": [
    "## Delay Visualization (Weather Delay & AIR_SYSTEM_DELAY)"
   ]
  },
  {
   "cell_type": "markdown",
   "id": "3f4d9d01",
   "metadata": {},
   "source": [
    "### Weather Delay by State"
   ]
  },
  {
   "cell_type": "code",
   "execution_count": null,
   "id": "21e64bf5",
   "metadata": {},
   "outputs": [],
   "source": [
    "\n",
    "df_weather = df_flights.groupby('STATE_ORG')\\\n",
    "            ['WEATHER_DELAY'].mean().reset_index()\n",
    "df_weather = df_weather.sort_values('WEATHER_DELAY',ascending = False).reset_index(drop= True)\n",
    "df_weather.head()\n"
   ]
  },
  {
   "cell_type": "markdown",
   "id": "71ff560d",
   "metadata": {},
   "source": [
    "###  States choropleth map that shows Weather Delay rate variation in every state: <br> \n",
    "> Choropleth map is a type of statistical thematic map that uses intensity of color to correspond with an aggregate summary of a geographic characteristic (Weather Delay) "
   ]
  },
  {
   "cell_type": "code",
   "execution_count": null,
   "id": "f9a18f5d",
   "metadata": {},
   "outputs": [],
   "source": [
    "fig = px.choropleth(df_weather,\n",
    "                    locations='STATE_ORG', \n",
    "                    locationmode=\"USA-states\", \n",
    "                    scope=\"usa\",\n",
    "                    color='WEATHER_DELAY',\n",
    "                    color_continuous_scale=[\"LightYellow\" ,\"Gold\", \"MediumAquamarine\",\"Teal\",\"MidnightBlue\"], \n",
    "                    width=1000, height=600\n",
    "\n",
    "                    )\n",
    "fig.update_layout(\n",
    "      title_text = 'Weather Delay by State',\n",
    "      title_font_family=\"Times New Roman\",\n",
    "      title_font_size = 22,\n",
    "      title_font_color=\"black\", \n",
    "      title_x=0.45, \n",
    "         )\n",
    "\n",
    "fig.show()"
   ]
  },
  {
   "cell_type": "markdown",
   "id": "4fc5cab5",
   "metadata": {},
   "source": [
    "### Reflection \n",
    "> which state has the Most Frequent Weather delay ?"
   ]
  },
  {
   "cell_type": "code",
   "execution_count": null,
   "id": "1df94cba",
   "metadata": {},
   "outputs": [],
   "source": [
    "#"
   ]
  },
  {
   "cell_type": "markdown",
   "id": "fdb5c825",
   "metadata": {},
   "source": [
    "# Which States have the most Air system delays? "
   ]
  },
  {
   "cell_type": "markdown",
   "id": "3a2ef6ad",
   "metadata": {},
   "source": [
    "### Air System Delay by State"
   ]
  },
  {
   "cell_type": "code",
   "execution_count": null,
   "id": "1f32a5de",
   "metadata": {},
   "outputs": [],
   "source": [
    "\n",
    "df_airDelay = df_flights.groupby('STATE_ORG')\\\n",
    "            ['AIR_SYSTEM_DELAY'].mean().reset_index()\n",
    "df_airDelay = df_airDelay.sort_values('AIR_SYSTEM_DELAY',ascending = False).reset_index(drop= True)\n",
    "df_airDelay.head()\n"
   ]
  },
  {
   "cell_type": "markdown",
   "id": "541c876c",
   "metadata": {},
   "source": [
    "###  States choropleth map that shows Air System Delay rate variation in every state: <br> \n",
    "> Choropleth map is a type of statistical thematic map that uses intensity of color to correspond with an aggregate summary of a geographic characteristic (Air System Delay) "
   ]
  },
  {
   "cell_type": "code",
   "execution_count": null,
   "id": "1115584b",
   "metadata": {},
   "outputs": [],
   "source": [
    "fig = px.choropleth(df_airDelay,\n",
    "                    locations='STATE_ORG', \n",
    "                    locationmode=\"USA-states\", \n",
    "                    scope=\"usa\",\n",
    "                    color='AIR_SYSTEM_DELAY',\n",
    "                    color_continuous_scale=[\"LightYellow\" ,\"Gold\", \"MediumAquamarine\",\"Teal\",\"MidnightBlue\"], \n",
    "                    width=1000, height=600\n",
    "\n",
    "                    )\n",
    "fig.update_layout(\n",
    "      title_text = 'AIR_SYSTEM_DELAY Delay by State',\n",
    "      title_font_family=\"Times New Roman\",\n",
    "      title_font_size = 22,\n",
    "      title_font_color=\"black\", \n",
    "      title_x=0.45, \n",
    "         )\n",
    "\n",
    "fig.show()"
   ]
  },
  {
   "cell_type": "markdown",
   "id": "7fcd4aa2",
   "metadata": {},
   "source": [
    "### Reflection \n",
    "> which state has the Most Frequent Air System delay ?"
   ]
  },
  {
   "cell_type": "code",
   "execution_count": null,
   "id": "347dece1",
   "metadata": {},
   "outputs": [],
   "source": [
    "#"
   ]
  },
  {
   "cell_type": "markdown",
   "id": "c428e273",
   "metadata": {},
   "source": [
    "# Which airlines have the most arrival and departure delays?"
   ]
  },
  {
   "cell_type": "markdown",
   "id": "a61fa7c4",
   "metadata": {},
   "source": [
    "## Delay Time Visualization"
   ]
  },
  {
   "cell_type": "code",
   "execution_count": null,
   "id": "cc580653",
   "metadata": {},
   "outputs": [],
   "source": [
    "# Groupby Airlines by DEPARTURE and ARRIVAL mean Delay time\n",
    "delay = df_flights.groupby('AIRLINE')[['DEPARTURE_DELAY','ARRIVAL_DELAY']].mean()\n",
    "delay[\"total_delay\"]=delay[\"DEPARTURE_DELAY\"]+delay[\"ARRIVAL_DELAY\"]\n",
    "delay=delay.sort_values(\"total_delay\").reset_index()\n",
    "delay"
   ]
  },
  {
   "cell_type": "code",
   "execution_count": null,
   "id": "2aed4120",
   "metadata": {},
   "outputs": [],
   "source": []
  },
  {
   "cell_type": "markdown",
   "id": "bbc43b05",
   "metadata": {},
   "source": [
    "## Delay Time Visualization stacked bar chart"
   ]
  },
  {
   "cell_type": "code",
   "execution_count": null,
   "id": "48ddc3a5",
   "metadata": {},
   "outputs": [],
   "source": []
  },
  {
   "cell_type": "code",
   "execution_count": null,
   "id": "f47b743c",
   "metadata": {},
   "outputs": [],
   "source": [
    "fig = go.Figure(data=[\n",
    "    go.Bar(name='DEPARTURE', x=delay['DEPARTURE_DELAY'], y=delay['AIRLINE'],\n",
    "           orientation=\"h\", marker_color='Teal'),\n",
    "    \n",
    "    go.Bar(name='ARRIVAL', x=delay['ARRIVAL_DELAY'], y=delay['AIRLINE'],\n",
    "           orientation=\"h\", marker_color='MediumTurquoise',\n",
    "           text=delay['total_delay'], texttemplate='%{text:.2}', textposition='outside')\n",
    "])\n",
    "\n",
    "\n",
    "# Change the bar mode\n",
    "fig.update_layout(barmode='stack', width=1200, height=800, plot_bgcolor='white',\n",
    "                 # Add title\n",
    "                  title=\"Departure and Arrival Delay in Airlines <br>(Click legend to toggle traces) \",title_x=0.5)\n",
    "fig.update_xaxes(gridcolor='LightGrey')\n",
    "\n",
    "\n",
    "\n",
    "\n",
    "\n",
    "fig.show()"
   ]
  },
  {
   "cell_type": "markdown",
   "id": "4df00d14",
   "metadata": {},
   "source": [
    "### Reflection \n",
    "> After looking at the graph, are you more likely to have a delay for your departure or arrival?\n",
    "> Which Airlines have the most delays?\n",
    "> Based on this graph and the Airline carrier cancellations stacked bar graph, which airline would be the worst to fly on? Which one would be the best?\n",
    "> Write your answers to the right of the # in the cell below\n"
   ]
  },
  {
   "cell_type": "markdown",
   "id": "a7c71e93",
   "metadata": {},
   "source": [
    "# 5.1 Answering Data Question\n",
    ">### What can we assume from our analysis..... "
   ]
  },
  {
   "cell_type": "code",
   "execution_count": null,
   "id": "aebbd1e0",
   "metadata": {},
   "outputs": [],
   "source": [
    "#"
   ]
  },
  {
   "cell_type": "markdown",
   "id": "08b7efe3",
   "metadata": {},
   "source": [
    "# Goodbye for now!\n",
    "<p>This was just a short introduction data science project using python with Flights, Airports, and Airlines Data dataset I hope you enjoyed it! :)</p>"
   ]
  },
  {
   "cell_type": "code",
   "execution_count": null,
   "id": "f6144baa",
   "metadata": {},
   "outputs": [],
   "source": []
  },
  {
   "cell_type": "code",
   "execution_count": null,
   "id": "5eee940c",
   "metadata": {},
   "outputs": [],
   "source": []
  }
 ],
 "metadata": {
  "kernelspec": {
   "display_name": "Python 3",
   "language": "python",
   "name": "python3"
  },
  "language_info": {
   "codemirror_mode": {
    "name": "ipython",
    "version": 3
   },
   "file_extension": ".py",
   "mimetype": "text/x-python",
   "name": "python",
   "nbconvert_exporter": "python",
   "pygments_lexer": "ipython3",
   "version": "3.8.8"
  }
 },
 "nbformat": 4,
 "nbformat_minor": 5
}
