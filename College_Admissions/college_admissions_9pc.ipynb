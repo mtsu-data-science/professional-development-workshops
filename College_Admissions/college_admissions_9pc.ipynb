{
 "cells": [
  {
   "cell_type": "markdown",
   "id": "e13065e4",
   "metadata": {},
   "source": [
    "<h1 > <span style=\"font-size: 3em; color:DarkSlateBlue\"> </span></h1>"
   ]
  },
  {
   "cell_type": "markdown",
   "id": "3f3fa61b",
   "metadata": {},
   "source": [
    "<h1 > <span style=\"font-size: 3em; color:DarkSlateBlue\"> 🎓 College Admissions</span></h1>\n",
    "<h1 > <span style=\"font-size: 1em; color:Orange\"> &emsp; &emsp; &emsp; &emsp; &emsp;📊 📉 Data science project</span></h1> \n",
    "\n",
    "*** \n"
   ]
  },
  {
   "cell_type": "markdown",
   "id": "b6d48f77",
   "metadata": {},
   "source": [
    "<h1 > <span style=\"font-size: 3em; color:DarkSlateBlue\"> </span></h1>"
   ]
  },
  {
   "cell_type": "markdown",
   "id": "415d9ec5",
   "metadata": {},
   "source": [
    "<div class=\"alert alert-block alert-info\"> \n",
    "    \n",
    "# 1.1 Scenario\n",
    "> ### You are a high school student or a parent about to begin the college admission process and you decided to analyze the data to find a school that would be a good fit.\n",
    "# Motivation\n",
    "> ### College Admissions are a multi billion dollar a year industry.\n",
    "# Data Questions\n",
    ">\n",
    "> ## 1) Applications vs admissions vs enrolled: WHat does this tell you about the number of students that were accepted, but went to a different school? What do you think impacted their decisions?\n",
    "> ## 2) Which is more popular: SAT or ACT based off of region?\n",
    "> ## 3) Does the % of ACT vs SAT scores submitted change based on the acceptance rates? Does SAT submissions increase when the school’s acceptance rate decreases?\n",
    "> ## 4)  What region has the most Public schools? What region has the most private schools?\n",
    "> ## 5) What can you tell about the amount of 4 year schools vs private schools?\n",
    "> ## 6) What can you tell about the graduation Rates?\n",
    "> ## 7) What can you tell about the % of women vs men?"
   ]
  },
  {
   "cell_type": "markdown",
   "id": "d8853aca",
   "metadata": {},
   "source": [
    "## 1.2 About the dataset\n",
    "> This dataset was used from kaggle and can be found here:\n",
    "https://www.kaggle.com/datasets/samsonqian/college-admissions"
   ]
  },
  {
   "cell_type": "markdown",
   "id": "c477549d",
   "metadata": {},
   "source": [
    "### 1.3 Import Python libraries"
   ]
  },
  {
   "cell_type": "code",
   "execution_count": null,
   "id": "5361bd9c",
   "metadata": {},
   "outputs": [],
   "source": [
    "# The fundamental package for scientific computing with Python\n",
    "import numpy as np\n",
    "from numpy import arange\n",
    "from numpy import mean\n",
    "\n",
    "# Pandas is a widely-used data analysis and manipulation library for Python\n",
    "import pandas as pd \n",
    "\n",
    "# Matplotlib is a comprehensive library for creating static, animated, and interactive visualizations in Python\n",
    "import matplotlib.pyplot as plt\n",
    "import matplotlib.dates as mdates\n",
    "from matplotlib.dates import MonthLocator, DateFormatter\n",
    "from matplotlib.ticker import NullFormatter\n",
    "import matplotlib.patches as mpatches\n",
    "\n",
    "# Seaborn is a data visualization library based on matplotlib\n",
    "import seaborn as sns\n",
    "\n",
    "# Datetime module supplies classes to work with date and time.\n",
    "import datetime as dt\n",
    "# Missingno is exploratory visualization tool for  missing data\n",
    "import missingno as msno\n",
    "\n",
    "# Plotly is an interactive, open-source plotting library\n",
    "import plotly.graph_objects as go\n",
    "import plotly.express as px\n",
    "\n",
    "# Show warning messages\n",
    "import warnings\n",
    "# Never print matching warnings\n",
    "warnings.filterwarnings('ignore')"
   ]
  },
  {
   "cell_type": "markdown",
   "id": "21b0cbe9",
   "metadata": {},
   "source": [
    "#### 1.4 Set display"
   ]
  },
  {
   "cell_type": "code",
   "execution_count": null,
   "id": "fee7f1ed",
   "metadata": {},
   "outputs": [],
   "source": [
    "# Set display to show up to 200 columns in dataframe\n",
    "\n",
    "sns.reset_orig()\n",
    "pd.set_option('display.max_columns',500)\n",
    "pd.set_option('display.max_rows', 50)\n",
    "\n",
    "# Set default color palette to colorblind\n",
    "plt.style.use('seaborn-colorblind')\n",
    "\n",
    "# Set the aesthetic style of any plots \n",
    "sns.set_style('whitegrid') \n",
    "sns.color_palette(\"colorblind\")\n",
    "%config InlineBackend.figure_format='retina'\n",
    "\n",
    "# Enable the inline plotting\n",
    "%matplotlib inline\n",
    "# Trick to widen the screen\n",
    "from IPython.core.display import display, HTML\n",
    "#Widens the code landscape \n",
    "display(HTML(\"<style>.container { width:95% !important; }</style>\"))"
   ]
  },
  {
   "cell_type": "markdown",
   "id": "79978b5a",
   "metadata": {},
   "source": [
    "### 2. Import the datasets"
   ]
  },
  {
   "cell_type": "code",
   "execution_count": null,
   "id": "ac558265",
   "metadata": {},
   "outputs": [],
   "source": [
    "# Read a comma-separated values (csv) file from the same folder into DataFrame\n",
    "df = pd.read_csv('Data-Table 1.csv', header = 0)\n",
    "df = (df[['Name', 'Geographic region', 'State abbreviation', 'Applicants total', 'Enrolled total', 'Percent of freshmen submitting SAT scores', 'Percent of freshmen submitting ACT scores', 'ACT Composite 25th percentile score','ACT Composite 75th percentile score','Level of institution', 'Control of institution', 'Graduation rate - Bachelor degree within 6 years, total', 'Percent of total enrollment that are women']])"
   ]
  },
  {
   "cell_type": "markdown",
   "id": "61ee58e0",
   "metadata": {},
   "source": [
    "## 3. Begin Exploring the Dataset\n",
    "> ### Explore the data. What is the shape of the dataset?. What are the different variable types when you look at \"Dtype\" ? Is there any missing data? Repeating values? Outliers?"
   ]
  },
  {
   "cell_type": "code",
   "execution_count": null,
   "id": "9ca256ee",
   "metadata": {},
   "outputs": [],
   "source": [
    "# Show the first 5 rows of the df_airports\n",
    "display(df.head())\n",
    "# Print a concise summary of a DataFrame.\n",
    "display(df.info())"
   ]
  },
  {
   "cell_type": "markdown",
   "id": "b771f4d2",
   "metadata": {},
   "source": [
    "# 3.2 Cleaning and manipulating the data\n",
    "> ### Clean the data based on what you found in your exploration of the data. Are there any outliers, impractical and missing values, null values, etc? How can you tell?"
   ]
  },
  {
   "cell_type": "code",
   "execution_count": null,
   "id": "00ea63ac",
   "metadata": {
    "scrolled": false
   },
   "outputs": [],
   "source": [
    "# Bar plot of the missing values using missingno library\n",
    "msno.bar(df)\n",
    "plt.show()\n",
    "\n",
    "# Counting missing values\n",
    "df.isna().sum()"
   ]
  },
  {
   "cell_type": "markdown",
   "id": "53562e12",
   "metadata": {},
   "source": [
    "## 3.3 How did the dataset change after we removed missing values?"
   ]
  },
  {
   "cell_type": "code",
   "execution_count": null,
   "id": "99c875e7",
   "metadata": {
    "scrolled": true
   },
   "outputs": [],
   "source": [
    "# Drop  missing values for now\n",
    "df = df.dropna()\n",
    "# Bar plot of the missing values using missingno library\n",
    "msno.bar(df)\n",
    "plt.show()\n",
    "\n",
    "# Counting missing values\n",
    "df.isna().sum()"
   ]
  },
  {
   "cell_type": "markdown",
   "id": "ce2f2fca",
   "metadata": {},
   "source": [
    "## 3.4"
   ]
  },
  {
   "cell_type": "code",
   "execution_count": null,
   "id": "4623f9f9",
   "metadata": {},
   "outputs": [],
   "source": [
    "# Show the first 5 rows of the df_airports\n",
    "display(df.head(50))\n",
    "# Print a concise summary of a DataFrame.\n",
    "display(df.info())"
   ]
  },
  {
   "cell_type": "markdown",
   "id": "63640bbf",
   "metadata": {},
   "source": [
    "### 3.5 Explore columns"
   ]
  },
  {
   "cell_type": "code",
   "execution_count": null,
   "id": "5b0e1a33",
   "metadata": {
    "scrolled": true
   },
   "outputs": [],
   "source": [
    "#Count Unique Values in each column\n",
    "df.nunique()"
   ]
  },
  {
   "cell_type": "markdown",
   "id": "665012df",
   "metadata": {},
   "source": [
    "## 3.6"
   ]
  },
  {
   "cell_type": "code",
   "execution_count": null,
   "id": "31424e4c",
   "metadata": {
    "scrolled": true
   },
   "outputs": [],
   "source": [
    "display(df['Name'].nunique())\n",
    "display(df['Name'].unique())\n",
    "display(df['Name'].value_counts())"
   ]
  },
  {
   "cell_type": "markdown",
   "id": "2f683fab",
   "metadata": {},
   "source": [
    "## 3.7"
   ]
  },
  {
   "cell_type": "code",
   "execution_count": null,
   "id": "d94dd06f",
   "metadata": {
    "scrolled": true
   },
   "outputs": [],
   "source": [
    "display(df['Geographic region'].nunique())\n",
    "display(df['Geographic region'].unique())\n",
    "display(df['Geographic region'].value_counts())"
   ]
  },
  {
   "cell_type": "markdown",
   "id": "849b8922",
   "metadata": {},
   "source": [
    "## 3.8"
   ]
  },
  {
   "cell_type": "code",
   "execution_count": null,
   "id": "47d63294",
   "metadata": {
    "scrolled": true
   },
   "outputs": [],
   "source": [
    "display(df['State abbreviation'].nunique())\n",
    "display(df['State abbreviation'].unique())\n",
    "display(df['State abbreviation'].value_counts())"
   ]
  },
  {
   "cell_type": "markdown",
   "id": "c635a246",
   "metadata": {},
   "source": [
    "## 3.9"
   ]
  },
  {
   "cell_type": "code",
   "execution_count": null,
   "id": "8b255850",
   "metadata": {},
   "outputs": [],
   "source": [
    "display(df['Control of institution'].nunique())\n",
    "display(df['Control of institution'].unique())\n",
    "display(df['Control of institution'].value_counts())"
   ]
  },
  {
   "cell_type": "code",
   "execution_count": null,
   "id": "70665ea2",
   "metadata": {},
   "outputs": [],
   "source": []
  },
  {
   "cell_type": "markdown",
   "id": "b56d5b35",
   "metadata": {},
   "source": [
    "### 3.10 Reflection \n",
    "> After doing a brief exploratory Data Analysis, what can we learn about the number of unique schools each region and state has? What about the number of public vs private? Are you suprised by the results? Enter your thoughts to the right of the # in the cell below\n"
   ]
  },
  {
   "cell_type": "code",
   "execution_count": null,
   "id": "cc113708",
   "metadata": {},
   "outputs": [],
   "source": [
    "#"
   ]
  },
  {
   "cell_type": "markdown",
   "id": "e76e71e0",
   "metadata": {},
   "source": [
    "## 3.11 Numerical variables and correlation"
   ]
  },
  {
   "cell_type": "code",
   "execution_count": null,
   "id": "9fe23e3c",
   "metadata": {
    "scrolled": true
   },
   "outputs": [],
   "source": [
    "# Provide a listing of all of the field names in the dataframe\n",
    "df.columns"
   ]
  },
  {
   "cell_type": "markdown",
   "id": "41be0e75",
   "metadata": {},
   "source": [
    "## 3.12"
   ]
  },
  {
   "cell_type": "code",
   "execution_count": null,
   "id": "c7bc9644",
   "metadata": {},
   "outputs": [],
   "source": [
    "df_numerical = df[['Applicants total',\n",
    "       'Enrolled total', 'Percent of freshmen submitting SAT scores', 'ACT Composite 25th percentile score','ACT Composite 75th percentile score',\n",
    "       'Percent of freshmen submitting ACT scores',\n",
    "       'Graduation rate - Bachelor degree within 6 years, total',\n",
    "       'Percent of total enrollment that are women']]"
   ]
  },
  {
   "cell_type": "markdown",
   "id": "e229e359",
   "metadata": {},
   "source": [
    "## 3.13 How would we show the relationship between all of the numeric variables?"
   ]
  },
  {
   "cell_type": "code",
   "execution_count": null,
   "id": "ddc02baf",
   "metadata": {},
   "outputs": [],
   "source": [
    "# Create and show correlation matrix with heatmap among core variables\n",
    "plt.figure(figsize=(14,9))\n",
    "\n",
    "sns.heatmap(df_numerical.astype(float).corr(), linewidths=2, vmax=1.0, vmin=-1.0, annot_kws={\"fontsize\":14},\n",
    "            cmap='BrBG', linecolor='white', annot=True)\n",
    "\n",
    "plt.xticks(rotation=30, ha='right', fontsize='14')\n",
    "plt.yticks( fontsize='14')\n",
    "\n",
    "plt.title('Heatmap of Correlation of Base Numeric Variables', fontweight='bold', \n",
    "          fontsize='14', ha='center', y=1.01)\n",
    "\n",
    "plt.show()"
   ]
  },
  {
   "cell_type": "markdown",
   "id": "abe1aa62",
   "metadata": {},
   "source": [
    "### 3.14 Reflection \n",
    "> After looking at this correlation matrix, what are some highly correlated pairs? What are some highly negatively correlated pairs? Why is the top left to bottom right diagonal all have coefficients of +1.0? Use inference to contruct a logical statment and put your answer to the right of the # in the cell block below"
   ]
  },
  {
   "cell_type": "code",
   "execution_count": null,
   "id": "588c6a98",
   "metadata": {},
   "outputs": [],
   "source": [
    "#"
   ]
  },
  {
   "cell_type": "code",
   "execution_count": null,
   "id": "5aee072e",
   "metadata": {},
   "outputs": [],
   "source": []
  },
  {
   "cell_type": "markdown",
   "id": "de78d94f",
   "metadata": {},
   "source": [
    "## 3.13 How would we ADD a column of state codes (AL for Alabama, etc.) using state names?"
   ]
  },
  {
   "cell_type": "code",
   "execution_count": null,
   "id": "2ac000ad",
   "metadata": {},
   "outputs": [],
   "source": [
    "# All USA State Abbreviations as a Map\n",
    "\n",
    "us_state_to_abbrev = {\n",
    "    \"Alabama\": \"AL\",\n",
    "    \"Alaska\": \"AK\",\n",
    "    \"Arizona\": \"AZ\",\n",
    "    \"Arkansas\": \"AR\",\n",
    "    \"California\": \"CA\",\n",
    "    \"Colorado\": \"CO\",\n",
    "    \"Connecticut\": \"CT\",\n",
    "    \"Delaware\": \"DE\",\n",
    "    \"Florida\": \"FL\",\n",
    "    \"Georgia\": \"GA\",\n",
    "    \"Hawaii\": \"HI\",\n",
    "    \"Idaho\": \"ID\",\n",
    "    \"Illinois\": \"IL\",\n",
    "    \"Indiana\": \"IN\",\n",
    "    \"Iowa\": \"IA\",\n",
    "    \"Kansas\": \"KS\",\n",
    "    \"Kentucky\": \"KY\",\n",
    "    \"Louisiana\": \"LA\",\n",
    "    \"Maine\": \"ME\",\n",
    "    \"Maryland\": \"MD\",\n",
    "    \"Massachusetts\": \"MA\",\n",
    "    \"Michigan\": \"MI\",\n",
    "    \"Minnesota\": \"MN\",\n",
    "    \"Mississippi\": \"MS\",\n",
    "    \"Missouri\": \"MO\",\n",
    "    \"Montana\": \"MT\",\n",
    "    \"Nebraska\": \"NE\",\n",
    "    \"Nevada\": \"NV\",\n",
    "    \"New Hampshire\": \"NH\",\n",
    "    \"New Jersey\": \"NJ\",\n",
    "    \"New Mexico\": \"NM\",\n",
    "    \"New York\": \"NY\",\n",
    "    \"North Carolina\": \"NC\",\n",
    "    \"North Dakota\": \"ND\",\n",
    "    \"Ohio\": \"OH\",\n",
    "    \"Oklahoma\": \"OK\",\n",
    "    \"Oregon\": \"OR\",\n",
    "    \"Pennsylvania\": \"PA\",\n",
    "    \"Rhode Island\": \"RI\",\n",
    "    \"South Carolina\": \"SC\",\n",
    "    \"South Dakota\": \"SD\",\n",
    "    \"Tennessee\": \"TN\",\n",
    "    \"Texas\": \"TX\",\n",
    "    \"Utah\": \"UT\",\n",
    "    \"Vermont\": \"VT\",\n",
    "    \"Virginia\": \"VA\",\n",
    "    \"Washington\": \"WA\",\n",
    "    \"West Virginia\": \"WV\",\n",
    "    \"Wisconsin\": \"WI\",\n",
    "    \"Wyoming\": \"WY\",\n",
    "    \"District of Columbia\": \"DC\",\n",
    "    \"American Samoa\": \"AS\",\n",
    "    \"Guam\": \"GU\",\n",
    "    \"Northern Mariana Islands\": \"MP\",\n",
    "    \"Puerto Rico\": \"PR\",\n",
    "    \"United States Minor Outlying Islands\": \"UM\",\n",
    "    \"U.S. Virgin Islands\": \"VI\",\n",
    "}\n",
    "\n",
    "# Invert the dictionary\n",
    "abbrev_to_us_state = dict(map(reversed, us_state_to_abbrev.items()))\n",
    "\n",
    "# Copy the matching result into new df (state_code)\n",
    "State_code = df['State abbreviation'].replace(us_state_to_abbrev, regex=True)\n",
    "# Insert that as a new coulmn as location 3 nexet to state names column\n",
    "df.insert(loc=3, column='State_code', value=State_code)\n",
    "\n",
    "df.head()"
   ]
  },
  {
   "cell_type": "code",
   "execution_count": null,
   "id": "bcb9b01d",
   "metadata": {},
   "outputs": [],
   "source": []
  },
  {
   "cell_type": "code",
   "execution_count": null,
   "id": "504bfcb0",
   "metadata": {},
   "outputs": [],
   "source": []
  },
  {
   "cell_type": "markdown",
   "id": "ec343f4d",
   "metadata": {},
   "source": [
    "# 4. Data Visualization and storytelling "
   ]
  },
  {
   "cell_type": "markdown",
   "id": "4f87273c",
   "metadata": {},
   "source": [
    "## 4.1 Number of colleges in every state (Public & Private) Analysis "
   ]
  },
  {
   "cell_type": "code",
   "execution_count": null,
   "id": "5bf5acdd",
   "metadata": {
    "scrolled": true
   },
   "outputs": [],
   "source": [
    "State_count = df[['State abbreviation','Control of institution']]\n",
    "# Create dummy variables for CANCELLATION_REASON\n",
    "institution_dummies = pd.get_dummies(df['Control of institution'], drop_first = False, dummy_na=False)\n",
    "display(institution_dummies.head())\n",
    "# Combine all fields into original dataframe\n",
    "State_count = pd.concat([State_count, institution_dummies], axis=1)\n",
    "State_count['Public_Private'] = State_count['Private not-for-profit']+ State_count['Public']\n",
    "State_count = State_count.groupby(['State abbreviation'])[['Public_Private','Private not-for-profit','Public']].sum().reset_index()\n",
    "State_count = State_count.sort_values(by='Public_Private', ascending=False)\n",
    "display(State_count.head())"
   ]
  },
  {
   "cell_type": "markdown",
   "id": "ca791761",
   "metadata": {},
   "source": [
    "## 4.2 How do we show the counts of public and private colleges for each U.S. state?"
   ]
  },
  {
   "cell_type": "code",
   "execution_count": null,
   "id": "0229e635",
   "metadata": {
    "scrolled": false
   },
   "outputs": [],
   "source": [
    "# Set/change some styles, Context, and Color Palette parameters manually and overide seaborn default\n",
    "sns.set_style(\"whitegrid\",\n",
    "             {'ytick.direction': 'in',\n",
    "             'axes.axisbelow': False,\n",
    "             'axes.grid': False})\n",
    "\n",
    "# Initialize the matplotlib figure \n",
    "fig, ax = plt.subplots(figsize=(15, 20))\n",
    "\n",
    "# Plot the Mid Career Salary\n",
    "sns.barplot(x='Public_Private', y=\"State abbreviation\", data=State_count, label=\"Private\",ci=None, color=\"#ffdd25\")\n",
    "\n",
    "# Plot the Starting Median Salary (overlay) \n",
    "\n",
    "sns.barplot(x='Public', y=\"State abbreviation\", data=State_count, label=\"Public\",ci=None, color=\"MediumTurquoise\")\n",
    "\n",
    "\n",
    "# add legend\n",
    "a_bar = mpatches.Patch(color='MediumTurquoise', label='Public')\n",
    "b_bar = mpatches.Patch(color='#ffdd25', label='Private')\n",
    "plt.legend(handles=[a_bar, b_bar],loc='upper center',\n",
    "          borderaxespad=0, prop={'size': 15},ncol=2,\n",
    "          bbox_to_anchor=(.5, 1.04))\n",
    "\n",
    "plt.yticks(fontweight='bold', fontsize='15')\n",
    "\n",
    "plt.xlabel('Colleges Counts',\n",
    "                   size = 15,fontweight='bold')\n",
    "\n",
    "plt.ylabel('')\n",
    "\n",
    "plt.title('Colleges Counts in every state', fontweight='bold', fontsize='20', ha='center', y=1.05)\n",
    "\n",
    "\n",
    "for container in ax.containers:\n",
    "    ax.bar_label(container,\n",
    "                 labels=['{:,.0f}'.format(x)  for x in container.datavalues],\n",
    "                 padding=1, color='Teal', fontsize=10, fontweight='bold')\n",
    "\n",
    "\n",
    "\n",
    "#Remove the top and right spines from plot(s).\n",
    "sns.despine(top=True, right=True)\n",
    "\n",
    "plt.rcParams['patch.linewidth'] = 0\n",
    "plt.rcParams['patch.edgecolor'] = 'none'\n",
    "\n",
    "plt.show()"
   ]
  },
  {
   "cell_type": "code",
   "execution_count": null,
   "id": "c9a8d650",
   "metadata": {},
   "outputs": [],
   "source": []
  },
  {
   "cell_type": "markdown",
   "id": "97056b9f",
   "metadata": {},
   "source": [
    "### 4.3 Reflection \n",
    "> After visualizing the public vs private value counts by state, what were you able to deduce from the data? Were you suprised by the results? Enter your thoughts in the cell below to the right of the #"
   ]
  },
  {
   "cell_type": "code",
   "execution_count": null,
   "id": "79751461",
   "metadata": {},
   "outputs": [],
   "source": [
    "#"
   ]
  },
  {
   "cell_type": "markdown",
   "id": "c0bbb76e",
   "metadata": {},
   "source": [
    "## 4.4 How does the total number of applicants compare to the total number of enrolled?"
   ]
  },
  {
   "cell_type": "code",
   "execution_count": null,
   "id": "db6b8132",
   "metadata": {},
   "outputs": [],
   "source": [
    "# Code Block 14\n",
    "# Create scatterplot of Applicants total and Enrolled total\n",
    "plt.figure(figsize=(11,8)) \n",
    "\n",
    "chart = sns.scatterplot(x='Applicants total', y='Enrolled total',\n",
    "                        data=df, ci=None, x_jitter=.2, palette=\"deep\", alpha = .6, s=50, color='DarkCyan')\n",
    "\n",
    "plt.xticks(fontsize=14, fontweight='bold')\n",
    "chart.grid(False)\n",
    "\n",
    "\n",
    "plt.title('Scatterplot of Applicants total and Enrolled total', fontweight='bold', \n",
    "          fontsize='14', ha='center', y=1.01)\n",
    "\n",
    "plt.xlabel('Applicants total', fontweight='bold', fontsize='14', ha='center')\n",
    "\n",
    "plt.ylabel('Enrolled total', fontweight='bold', fontsize='14', ha='center')\n",
    "\n",
    "#Remove the top and right spines from plot(s).\n",
    "sns.despine( top=True, right=True)\n",
    "\n",
    "plt.show()"
   ]
  },
  {
   "cell_type": "code",
   "execution_count": null,
   "id": "59a225ad",
   "metadata": {},
   "outputs": [],
   "source": []
  },
  {
   "cell_type": "markdown",
   "id": "4def34c8",
   "metadata": {},
   "source": [
    "### 4.5 Reflection \n",
    "> Based on this scatterplot, What can we tell about the number of total applicants vs the number of enrolled students? What scenarios do you think cause someone to apply but not attend? Enter your thoughts in the cell below to the right of the #."
   ]
  },
  {
   "cell_type": "code",
   "execution_count": null,
   "id": "5f334a9d",
   "metadata": {},
   "outputs": [],
   "source": [
    "#"
   ]
  },
  {
   "cell_type": "markdown",
   "id": "40c90f95",
   "metadata": {},
   "source": [
    "## 4.6 How does the choropleth map display the enrolled total variation differently than the scatterplot above this section? <br> \n",
    "> Choropleth map is a type of statistical thematic map that uses intensity of color to correspond with an aggregate summary of a geographic characteristic (Enrolled total) "
   ]
  },
  {
   "cell_type": "markdown",
   "id": "bc612a11",
   "metadata": {},
   "source": [
    "#### 4.7 Group by states with an aggregate summary (Applicants total and enrolled total)"
   ]
  },
  {
   "cell_type": "code",
   "execution_count": null,
   "id": "29ae566b",
   "metadata": {},
   "outputs": [],
   "source": [
    "applicants_state = df.groupby(['State abbreviation','State_code' ])[['Applicants total','Enrolled total']].sum()\n",
    "applicants_state = applicants_state.sort_values(by='Applicants total', ascending=False).reset_index()\n",
    "display(applicants_state.head())"
   ]
  },
  {
   "cell_type": "code",
   "execution_count": null,
   "id": "c594fcc2",
   "metadata": {},
   "outputs": [],
   "source": [
    "\n",
    "fig = px.choropleth(applicants_state,\n",
    "                    locations='State_code', \n",
    "                    locationmode=\"USA-states\", \n",
    "                    scope=\"usa\",\n",
    "                    color='Enrolled total',\n",
    "                    color_continuous_scale=[\"LightYellow\" ,\"Gold\", \"MediumAquamarine\",\"Teal\"], \n",
    "                    width=1200, height=600\n",
    "\n",
    "                    )\n",
    "fig.update_layout(\n",
    "      title_text = 'Enrolled total by State',\n",
    "      title_font_family=\"Times New Roman\",\n",
    "      title_font_size = 22,\n",
    "      title_font_color=\"black\", \n",
    "      title_x=0.45, \n",
    "         )\n",
    "\n",
    "fig.show()"
   ]
  },
  {
   "cell_type": "markdown",
   "id": "74fe12dc",
   "metadata": {},
   "source": [
    "### 4.8 Applicants total Vs. Enrolled total Stacked Barplot (By States)"
   ]
  },
  {
   "cell_type": "code",
   "execution_count": null,
   "id": "1d38360c",
   "metadata": {},
   "outputs": [],
   "source": [
    "# Divide to top_states and low_states for readable visualizations\n",
    "top_states = applicants_state.iloc[0:25]\n",
    "display(top_states.head())\n",
    "\n",
    "low_states = applicants_state.iloc[25:]\n",
    "\n",
    "display(low_states.head())"
   ]
  },
  {
   "cell_type": "markdown",
   "id": "a62f8669",
   "metadata": {},
   "source": [
    "### 4.9 How do we see the total applicants vs. total enrolled for ONLY the 25 most applied-to states?"
   ]
  },
  {
   "cell_type": "code",
   "execution_count": null,
   "id": "2f392598",
   "metadata": {},
   "outputs": [],
   "source": [
    "# Set/change some styles, Context, and Color Palette parameters manually and overide seaborn default\n",
    "sns.set_style(\"whitegrid\",\n",
    "             {'ytick.direction': 'in',\n",
    "             'axes.axisbelow': False,\n",
    "             'axes.grid': False})\n",
    "\n",
    "# Initialize the matplotlib figure \n",
    "fig, ax = plt.subplots(figsize=(15, 20))\n",
    "\n",
    "# Plot the Mid Career Salary\n",
    "sns.barplot(x='Applicants total', y=\"State abbreviation\", data=top_states, label=\"Applicants\",ci=None, color=\"#ffdd25\")\n",
    "\n",
    "# Plot the Starting Median Salary (overlay) \n",
    "\n",
    "sns.barplot(x='Enrolled total', y=\"State abbreviation\", data=top_states, label=\"Enrolled\",ci=None, color=\"MediumTurquoise\")\n",
    "\n",
    "\n",
    "# add legend\n",
    "a_bar = mpatches.Patch(color='MediumTurquoise', label='Enrolled')\n",
    "b_bar = mpatches.Patch(color='#ffdd25', label='Applicants')\n",
    "plt.legend(handles=[a_bar, b_bar],loc='upper center',\n",
    "          borderaxespad=0, prop={'size': 15},ncol=2,\n",
    "          bbox_to_anchor=(.5, 1.04))\n",
    "\n",
    "plt.yticks(fontweight='bold', fontsize='15')\n",
    "\n",
    "plt.xlabel('Applicants Total',\n",
    "                   size = 15,fontweight='bold')\n",
    "\n",
    "plt.ylabel('')\n",
    "\n",
    "plt.title('Applicants total Vs. Enrolled total (Top States)', fontweight='bold', fontsize='20', ha='center', y=1.05)\n",
    "\n",
    "\n",
    "for container in ax.containers:\n",
    "    ax.bar_label(container,\n",
    "                 labels=['{:,.0f}'.format(x) + 'K' for x in container.datavalues/1000],\n",
    "                 padding=1, color='Teal', fontsize=10, fontweight='bold')\n",
    "\n",
    "\n",
    "\n",
    "#Remove the top and right spines from plot(s).\n",
    "sns.despine(top=True, right=True)\n",
    "\n",
    "plt.rcParams['patch.linewidth'] = 0\n",
    "plt.rcParams['patch.edgecolor'] = 'none'\n",
    "\n",
    "plt.show()"
   ]
  },
  {
   "cell_type": "markdown",
   "id": "fd50afb1",
   "metadata": {},
   "source": [
    "### 4.10 Reflection Applicants vs enrolled High States\n",
    "> What do you think makes these states so popular for applicants? What can you tell about the number of people who apply vs the number who actually end up attending? How would we view the top 10? Top 5?"
   ]
  },
  {
   "cell_type": "code",
   "execution_count": null,
   "id": "90dfdbdb",
   "metadata": {},
   "outputs": [],
   "source": [
    "#"
   ]
  },
  {
   "cell_type": "markdown",
   "id": "08dd51c2",
   "metadata": {},
   "source": [
    "### 4.11 How do we see the total applicants vs. total enrolled for ONLY the 25 least applied-to states?"
   ]
  },
  {
   "cell_type": "code",
   "execution_count": null,
   "id": "5c5388c6",
   "metadata": {},
   "outputs": [],
   "source": [
    "# Set/change some styles, Context, and Color Palette parameters manually and overide seaborn default\n",
    "sns.set_style(\"whitegrid\",\n",
    "             {'ytick.direction': 'in',\n",
    "             'axes.axisbelow': False,\n",
    "             'axes.grid': False})\n",
    "\n",
    "# Initialize the matplotlib figure \n",
    "fig, ax = plt.subplots(figsize=(15, 20))\n",
    "\n",
    "# Plot the Mid Career Salary\n",
    "sns.barplot(x='Applicants total', y=\"State abbreviation\", data=low_states, label=\"Applicants\",ci=None, color=\"#ffdd25\")\n",
    "\n",
    "# Plot the Starting Median Salary (overlay) \n",
    "\n",
    "sns.barplot(x='Enrolled total', y=\"State abbreviation\", data=low_states, label=\"Enrolled\",ci=None, color=\"MediumTurquoise\")\n",
    "\n",
    "\n",
    "# add legend\n",
    "a_bar = mpatches.Patch(color='MediumTurquoise', label='Enrolled')\n",
    "b_bar = mpatches.Patch(color='#ffdd25', label='Applicants')\n",
    "plt.legend(handles=[a_bar, b_bar],loc='upper center',\n",
    "          borderaxespad=0, prop={'size': 15},ncol=2,\n",
    "          bbox_to_anchor=(.5, 1.04))\n",
    "\n",
    "plt.yticks(fontweight='bold', fontsize='15')\n",
    "\n",
    "plt.xlabel('Applicants Total',\n",
    "                   size = 15,fontweight='bold')\n",
    "\n",
    "plt.ylabel('')\n",
    "\n",
    "plt.title('Applicants total Vs. Enrolled total (Low States)', fontweight='bold', fontsize='20', ha='center', y=1.05)\n",
    "\n",
    "\n",
    "for container in ax.containers:\n",
    "    ax.bar_label(container,\n",
    "                 labels=['{:,.0f}'.format(x) + 'K' for x in container.datavalues/1000],\n",
    "                 padding=1, color='Teal', fontsize=10, fontweight='bold')\n",
    "\n",
    "\n",
    "\n",
    "#Remove the top and right spines from plot(s).\n",
    "sns.despine(top=True, right=True)\n",
    "\n",
    "plt.rcParams['patch.linewidth'] = 0\n",
    "plt.rcParams['patch.edgecolor'] = 'none'\n",
    "\n",
    "plt.show()"
   ]
  },
  {
   "cell_type": "markdown",
   "id": "cdc66d15",
   "metadata": {},
   "source": [
    "### 4.12 Reflection - Applicants total vs enrolled(low) \n",
    "> Why do you think so few people apply and attend some of the schools in these states? How would we view the bottom 10? The bottom 5? Type your answer to the right of the # in the cell below\n"
   ]
  },
  {
   "cell_type": "code",
   "execution_count": null,
   "id": "2dac8b68",
   "metadata": {},
   "outputs": [],
   "source": [
    "#"
   ]
  },
  {
   "cell_type": "markdown",
   "id": "7da96759",
   "metadata": {},
   "source": [
    "## 4.13 Percent of total enrollment by Gender"
   ]
  },
  {
   "cell_type": "code",
   "execution_count": null,
   "id": "94c5cbad",
   "metadata": {
    "scrolled": true
   },
   "outputs": [],
   "source": [
    "\n",
    "df['Percent of total enrollment that are men'] = 100 - df['Percent of total enrollment that are women']\n",
    "\n",
    "\n",
    "df['Percent of total enrollment'] = df['Percent of total enrollment that are men'] + df['Percent of total enrollment that are women']\n",
    "\n",
    "\n",
    "df_State_gender= df.groupby(['State abbreviation'])['Percent of total enrollment',\n",
    "                                           'Percent of total enrollment that are men',\n",
    "                                           'Percent of total enrollment that are women'].mean().reset_index()\n",
    "\n",
    "\n",
    "df_State_gender= df_State_gender.sort_values(by='Percent of total enrollment', ascending=False)\n",
    "df_State_gender.head()"
   ]
  },
  {
   "cell_type": "markdown",
   "id": "8fe6730d",
   "metadata": {},
   "source": [
    "## 4.14 How do we see the Male-to-Female ratio of total enrollment in each state?"
   ]
  },
  {
   "cell_type": "code",
   "execution_count": null,
   "id": "8f6a53d5",
   "metadata": {
    "scrolled": false
   },
   "outputs": [],
   "source": [
    "\n",
    "# Set/change some styles, Context, and Color Palette parameters manually and overide seaborn default\n",
    "sns.set_style(\"whitegrid\",\n",
    "             {'ytick.direction': 'in',\n",
    "             'axes.axisbelow': False,\n",
    "             'axes.grid': False})\n",
    "\n",
    "# Initialize the matplotlib figure \n",
    "fig, ax = plt.subplots(figsize=(15, 30))\n",
    "\n",
    "\n",
    "\n",
    "# Plot the Mid Career Salary\n",
    "sns.barplot(x='Percent of total enrollment', y=\"State abbreviation\", data=df_State_gender, label=\"men\",ci=None, color=\"MediumTurquoise\")\n",
    "\n",
    "# Plot the Starting Median Salary (overlay) \n",
    "\n",
    "sns.barplot(x='Percent of total enrollment that are women', y=\"State abbreviation\", data=df_State_gender, label=\"women\",ci=None, color=\"#ffdd25\")\n",
    "\n",
    "\n",
    "# add legend\n",
    "a_bar = mpatches.Patch(color='#ffdd25', label='women', )\n",
    "b_bar = mpatches.Patch(color='MediumTurquoise', label='men')\n",
    "plt.legend(handles=[a_bar, b_bar],loc='upper center',\n",
    "          borderaxespad=0, prop={'size': 15},ncol=2,\n",
    "          bbox_to_anchor=(.5, 1.05))\n",
    "\n",
    "plt.yticks(fontweight='bold', fontsize='15')\n",
    "\n",
    "plt.xlabel('Percent of total enrollment',\n",
    "                   size = 15,fontweight='bold')\n",
    "\n",
    "plt.ylabel('')\n",
    "plt.title('Percent of total enrollment by Gender', fontweight='bold', fontsize='20', ha='center', y=1.05)\n",
    "\n",
    "\n",
    "\n",
    "#Remove the top and right spines from plot(s).\n",
    "sns.despine(top=True, right=True)\n",
    "\n",
    "plt.rcParams['patch.linewidth'] = 0\n",
    "plt.rcParams['patch.edgecolor'] = 'none'\n",
    "\n",
    "\n",
    "for container in ax.containers:\n",
    "    ax.bar_label(container,\n",
    "                 labels=['{:,.0f}'.format(x) + '%' for x in container.datavalues],\n",
    "                 padding=5, color='w', fontsize=14, fontweight='bold')\n",
    "\n",
    "\n",
    "\n",
    "plt.show()"
   ]
  },
  {
   "cell_type": "markdown",
   "id": "b5d20dbe",
   "metadata": {},
   "source": [
    "### 4.15 Reflection - gender analysis\n",
    "> In this graph we analyzed gender ratios by state. What states have the most evenly distributed populations of students? What states have the highest percents of males vs females and vice versa? Which states have more men than females? Why do you think this is? Type your answer to the right of the # in the cell below."
   ]
  },
  {
   "cell_type": "markdown",
   "id": "d6bf29b5",
   "metadata": {},
   "source": [
    "## 4.28 What does the distribution look like for private or public colleges when comparing Total Student Enrollment vs. Graduation Rate?"
   ]
  },
  {
   "cell_type": "code",
   "execution_count": null,
   "id": "75fc52ff",
   "metadata": {},
   "outputs": [],
   "source": [
    "# Code Block 14\n",
    "# Create scatterplot of Percent of freshmen submitting SAT scores Vs. ACT scores\n",
    "plt.figure(figsize=(18,12)) \n",
    "\n",
    "palette =['DarkCyan', 'orange']\n",
    "\n",
    "chart = sns.scatterplot(x='Enrolled total',\n",
    "                        y='Graduation rate - Bachelor degree within 6 years, total', s=80,\n",
    "                        data=df, ci=None, x_jitter=.1, alpha = .5,\n",
    "                        hue ='Control of institution', palette = palette\n",
    "                        )\n",
    "\n",
    "\n",
    "plt.xticks(fontsize=14, fontweight='bold')\n",
    "chart.grid(False)\n",
    "\n",
    "\n",
    "plt.title('Enrolled Vs. Graduation rate ', fontweight='bold', \n",
    "          fontsize='14', ha='center', y=1.01)\n",
    "\n",
    "plt.xlabel('Enrolled total', fontweight='bold', fontsize='14', ha='center')\n",
    "\n",
    "plt.ylabel('Graduation rate - Bachelor degree within 6 years, total', fontweight='bold', fontsize='14', ha='center')\n",
    "\n",
    "#Remove the top and right spines from plot(s).\n",
    "sns.despine( top=True, right=True)\n",
    "\n",
    "plt.show()"
   ]
  },
  {
   "cell_type": "markdown",
   "id": "2812565b",
   "metadata": {},
   "source": [
    "### 4.29 Reflection \n",
    "> When comparing the 6 year graduation rates against the number of enrolled students, what inferences are we able to make? Do smaller or bigger schools have higher graduation rates? What kind of impact does the size of a school have on graduation based on this graph? Could there be other variables not graphed to better explain this problem? Type your answer to the right of the # in the cell below.\n"
   ]
  },
  {
   "cell_type": "markdown",
   "id": "bcee7744",
   "metadata": {},
   "source": [
    "### 4.30 Group by colleges and States with an aggregate summary of Graduation rate\n"
   ]
  },
  {
   "cell_type": "code",
   "execution_count": null,
   "id": "1811677a",
   "metadata": {
    "scrolled": true
   },
   "outputs": [],
   "source": [
    "college_grad_rate = df.groupby(['Name','State_code'])[['Graduation rate - Bachelor degree within 6 years, total']].sum()\n",
    "college_grad_rate = college_grad_rate.sort_values(by='Graduation rate - Bachelor degree within 6 years, total', ascending=False).reset_index()\n",
    "\n",
    "college_grad_rate.columns = ['Name', 'State_code','Graduation rate']\n",
    "\n",
    "display(college_grad_rate.head())"
   ]
  },
  {
   "cell_type": "markdown",
   "id": "a6c32ff5",
   "metadata": {},
   "source": [
    "## 4.30"
   ]
  },
  {
   "cell_type": "code",
   "execution_count": null,
   "id": "1b7d6e5d",
   "metadata": {
    "scrolled": true
   },
   "outputs": [],
   "source": [
    "State_grad_rate = df.groupby(['State abbreviation','State_code'])[['Graduation rate - Bachelor degree within 6 years, total']].mean()\n",
    "State_grad_rate = State_grad_rate.sort_values(by='Graduation rate - Bachelor degree within 6 years, total', ascending=False).reset_index()\n",
    "\n",
    "State_grad_rate.columns = ['State abbreviation', 'State_code','Graduation rate']\n",
    "\n",
    "display(State_grad_rate.head())"
   ]
  },
  {
   "cell_type": "markdown",
   "id": "ff5019d0",
   "metadata": {},
   "source": [
    "## 4.31"
   ]
  },
  {
   "cell_type": "markdown",
   "id": "cc2d342d",
   "metadata": {},
   "source": [
    "### Add (public or private) separation"
   ]
  },
  {
   "cell_type": "code",
   "execution_count": null,
   "id": "3b016e3f",
   "metadata": {
    "scrolled": true
   },
   "outputs": [],
   "source": [
    "State_grad_rate = State_grad_rate.merge(State_count, on= 'State abbreviation', how=\"left\")\n",
    "State_grad_rate"
   ]
  },
  {
   "cell_type": "markdown",
   "id": "5845b9f0",
   "metadata": {},
   "source": [
    "## 4.32"
   ]
  },
  {
   "cell_type": "code",
   "execution_count": null,
   "id": "0d44bd04",
   "metadata": {},
   "outputs": [],
   "source": [
    "State_grad_rate['Private not-for-profit'] = (State_grad_rate['Private not-for-profit']/State_grad_rate['Public_Private'])*State_grad_rate['Graduation rate']\n",
    "State_grad_rate['Public'] = State_grad_rate['Public']/State_grad_rate['Public_Private']*State_grad_rate['Graduation rate']\n",
    "\n",
    "State_grad_rate"
   ]
  },
  {
   "cell_type": "markdown",
   "id": "dffc0398",
   "metadata": {},
   "source": [
    "###  4.33 How would using a choropleth map best represent the graduation rate variation in every state? <br> \n",
    "> Choropleth map is a type of statistical thematic map that uses intensity of color to correspond with an aggregate summary of a geographic characteristic (Graduation rate) "
   ]
  },
  {
   "cell_type": "code",
   "execution_count": null,
   "id": "fe84e3ed",
   "metadata": {},
   "outputs": [],
   "source": [
    "fig = px.choropleth(State_grad_rate,\n",
    "                    locations='State_code', \n",
    "                    locationmode=\"USA-states\", \n",
    "                    scope=\"usa\",\n",
    "                    color='Graduation rate',\n",
    "                    color_continuous_scale=[\"LightYellow\" ,\"Gold\", \"MediumAquamarine\",\"Teal\"], \n",
    "                    width=1400, height=600\n",
    "\n",
    "                    )\n",
    "fig.update_layout(\n",
    "      title_text = 'Graduation rate by State',\n",
    "      title_font_family=\"Times New Roman\",\n",
    "      title_font_size = 22,\n",
    "      title_font_color=\"black\", \n",
    "      title_x=0.45, \n",
    "         )\n",
    "\n",
    "fig.show()"
   ]
  },
  {
   "cell_type": "code",
   "execution_count": null,
   "id": "3373f774",
   "metadata": {},
   "outputs": [],
   "source": [
    "#"
   ]
  },
  {
   "cell_type": "markdown",
   "id": "dd3e41b3",
   "metadata": {},
   "source": [
    "## 4.34 How do we view mean graduation rate for public and private colleges in each state?"
   ]
  },
  {
   "cell_type": "code",
   "execution_count": null,
   "id": "ffb57afe",
   "metadata": {},
   "outputs": [],
   "source": [
    "# Set/change some styles, Context, and Color Palette parameters manually and overide seaborn default\n",
    "sns.set_style(\"whitegrid\",\n",
    "             {'ytick.direction': 'in',\n",
    "             'axes.axisbelow': False,\n",
    "             'axes.grid': False})\n",
    "\n",
    "# Initialize the matplotlib figure \n",
    "fig, ax = plt.subplots(figsize=(15, 20))\n",
    "\n",
    "# Plot the Mid Career Salary\n",
    "ax1 = sns.barplot(x='Graduation rate', y=\"State abbreviation\", data=State_grad_rate, label=\"Private\",ci=None, color=\"#ffdd25\")\n",
    "\n",
    "# Plot the Starting Median Salary (overlay) \n",
    "\n",
    "ax2 = sns.barplot(x='Public', y=\"State abbreviation\", data=State_grad_rate, label=\"Public\",ci=None, color=\"MediumTurquoise\")\n",
    "\n",
    "\n",
    "# add legend\n",
    "a_bar = mpatches.Patch(color='MediumTurquoise', label='Public')\n",
    "b_bar = mpatches.Patch(color='#ffdd25', label='Private')\n",
    "plt.legend(handles=[a_bar, b_bar],loc='upper center',\n",
    "          borderaxespad=0, prop={'size': 15},ncol=2,\n",
    "          bbox_to_anchor=(.5, 1.04))\n",
    "\n",
    "plt.yticks(fontweight='bold', fontsize='15')\n",
    "\n",
    "plt.xlabel('Graduation rate',\n",
    "                   size = 15,fontweight='bold')\n",
    "\n",
    "plt.ylabel('')\n",
    "\n",
    "plt.title('Graduation rate mean in each States (public or private separation)', fontweight='bold', fontsize='20', ha='center', y=1.05)\n",
    "\n",
    "\n",
    "for container in ax1.containers:\n",
    "    ax1.bar_label(container,\n",
    "                 labels=['{:,.0f}'.format(x) + '%' for x in container.datavalues],\n",
    "                 padding=-25, color='w', fontsize=12, fontweight='bold')\n",
    "\n",
    "\n",
    "\n",
    "\n",
    "\n",
    "#Remove the top and right spines from plot(s).\n",
    "sns.despine(top=True, right=True)\n",
    "\n",
    "plt.rcParams['patch.linewidth'] = 0\n",
    "plt.rcParams['patch.edgecolor'] = 'none'\n",
    "\n",
    "plt.show()"
   ]
  },
  {
   "cell_type": "markdown",
   "id": "695f7d95",
   "metadata": {},
   "source": [
    "### 4.35 Reflection \n",
    "> These graphs allowed us to filter the data both numerically and visually, filtering the graduation rates by Private/Public by State. Do northern or southern states have the highest rates? What do you think are some of the reasons behind this? Do any specific types of schools come to mind? Are they public or private? Did public or private genrally have higher graduation rates? Did any states go against this general trend?\n"
   ]
  },
  {
   "cell_type": "markdown",
   "id": "6cfe76a9",
   "metadata": {},
   "source": [
    "# Goodbye for now!\n",
    "<p>This was just a short introduction data science project using python with College Admissions dataset I hope you enjoyed it! :)</p>"
   ]
  }
 ],
 "metadata": {
  "kernelspec": {
   "display_name": "Python 3 (ipykernel)",
   "language": "python",
   "name": "python3"
  },
  "language_info": {
   "codemirror_mode": {
    "name": "ipython",
    "version": 3
   },
   "file_extension": ".py",
   "mimetype": "text/x-python",
   "name": "python",
   "nbconvert_exporter": "python",
   "pygments_lexer": "ipython3",
   "version": "3.9.12"
  }
 },
 "nbformat": 4,
 "nbformat_minor": 5
}
